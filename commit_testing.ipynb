{
  "nbformat": 4,
  "nbformat_minor": 0,
  "metadata": {
    "colab": {
      "provenance": [],
      "authorship_tag": "ABX9TyODzEeTool4Uky+SSz/CaZQ",
      "include_colab_link": true
    },
    "kernelspec": {
      "name": "python3",
      "display_name": "Python 3"
    },
    "language_info": {
      "name": "python"
    }
  },
  "cells": [
    {
      "cell_type": "markdown",
      "metadata": {
        "id": "view-in-github",
        "colab_type": "text"
      },
      "source": [
        "<a href=\"https://colab.research.google.com/github/rahul-kr-soni/testing/blob/main/commit_testing.ipynb\" target=\"_parent\"><img src=\"https://colab.research.google.com/assets/colab-badge.svg\" alt=\"Open In Colab\"/></a>"
      ]
    },
    {
      "cell_type": "code",
      "execution_count": 1,
      "metadata": {
        "id": "i9t050DrL2Lz"
      },
      "outputs": [],
      "source": [
        "#importing Lib\n",
        " import numpy as np"
      ]
    },
    {
      "cell_type": "markdown",
      "source": [
        "Hey Pandas, why are you from china"
      ],
      "metadata": {
        "id": "Zu1GU5A3MVMH"
      }
    }
  ]
}